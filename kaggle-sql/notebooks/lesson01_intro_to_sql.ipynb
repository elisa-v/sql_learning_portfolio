{
 "cells": [
  {
   "cell_type": "markdown",
   "id": "4bfa08fe",
   "metadata": {
    "papermill": {
     "duration": 0.004513,
     "end_time": "2025-09-23T21:12:12.111537",
     "exception": false,
     "start_time": "2025-09-23T21:12:12.107024",
     "status": "completed"
    },
    "tags": []
   },
   "source": [
    "**This notebook is an exercise in the [SQL](https://www.kaggle.com/learn/intro-to-sql) course.  You can reference the tutorial at [this link](https://www.kaggle.com/dansbecker/getting-started-with-sql-and-bigquery).**\n",
    "\n",
    "---\n"
   ]
  },
  {
   "cell_type": "markdown",
   "id": "87e7ea79",
   "metadata": {
    "papermill": {
     "duration": 0.003469,
     "end_time": "2025-09-23T21:12:12.119044",
     "exception": false,
     "start_time": "2025-09-23T21:12:12.115575",
     "status": "completed"
    },
    "tags": []
   },
   "source": [
    "# Introduction\n",
    "\n",
    "The first test of your new data exploration skills uses data describing crime in the city of Chicago.\n",
    "\n",
    "Before you get started, run the following cell. It sets up the automated feedback system to review your answers."
   ]
  },
  {
   "cell_type": "code",
   "execution_count": 1,
   "id": "330e8cbe",
   "metadata": {
    "execution": {
     "iopub.execute_input": "2025-09-23T21:12:12.127862Z",
     "iopub.status.busy": "2025-09-23T21:12:12.127478Z",
     "iopub.status.idle": "2025-09-23T21:12:31.205160Z",
     "shell.execute_reply": "2025-09-23T21:12:31.204261Z"
    },
    "papermill": {
     "duration": 19.083973,
     "end_time": "2025-09-23T21:12:31.206948",
     "exception": false,
     "start_time": "2025-09-23T21:12:12.122975",
     "status": "completed"
    },
    "tags": []
   },
   "outputs": [
    {
     "name": "stderr",
     "output_type": "stream",
     "text": [
      "/usr/local/lib/python3.11/dist-packages/learntools/sql/ex1.py:64: SyntaxWarning: assertion is always true, perhaps remove parentheses?\n",
      "  assert (type(fields_for_plotting[0] == str), \"The first item in `fields_for_plotting` should be a string.\")\n",
      "/usr/local/lib/python3.11/dist-packages/learntools/sql/ex1.py:65: SyntaxWarning: assertion is always true, perhaps remove parentheses?\n",
      "  assert (type(fields_for_plotting[1] == str), \"The second item in `fields_for_plotting` should be a string.\")\n"
     ]
    },
    {
     "name": "stdout",
     "output_type": "stream",
     "text": [
      "Using Kaggle's public dataset BigQuery integration.\n",
      "Setup Complete\n"
     ]
    }
   ],
   "source": [
    "# Set up feedack system\n",
    "from learntools.core import binder\n",
    "binder.bind(globals())\n",
    "from learntools.sql.ex1 import *\n",
    "print(\"Setup Complete\")"
   ]
  },
  {
   "cell_type": "markdown",
   "id": "a88e86e1",
   "metadata": {
    "papermill": {
     "duration": 0.00473,
     "end_time": "2025-09-23T21:12:31.216339",
     "exception": false,
     "start_time": "2025-09-23T21:12:31.211609",
     "status": "completed"
    },
    "tags": []
   },
   "source": [
    "Use the next code cell to fetch the dataset."
   ]
  },
  {
   "cell_type": "code",
   "execution_count": 2,
   "id": "13e579be",
   "metadata": {
    "execution": {
     "iopub.execute_input": "2025-09-23T21:12:31.230236Z",
     "iopub.status.busy": "2025-09-23T21:12:31.228868Z",
     "iopub.status.idle": "2025-09-23T21:12:31.537460Z",
     "shell.execute_reply": "2025-09-23T21:12:31.536730Z"
    },
    "papermill": {
     "duration": 0.317472,
     "end_time": "2025-09-23T21:12:31.539055",
     "exception": false,
     "start_time": "2025-09-23T21:12:31.221583",
     "status": "completed"
    },
    "tags": []
   },
   "outputs": [
    {
     "name": "stdout",
     "output_type": "stream",
     "text": [
      "Using Kaggle's public dataset BigQuery integration.\n"
     ]
    }
   ],
   "source": [
    "from google.cloud import bigquery\n",
    "\n",
    "# Create a \"Client\" object\n",
    "client = bigquery.Client()\n",
    "\n",
    "# Construct a reference to the \"chicago_crime\" dataset\n",
    "dataset_ref = client.dataset(\"chicago_crime\", project=\"bigquery-public-data\")\n",
    "\n",
    "# API request - fetch the dataset\n",
    "dataset = client.get_dataset(dataset_ref)"
   ]
  },
  {
   "cell_type": "markdown",
   "id": "447e1836",
   "metadata": {
    "papermill": {
     "duration": 0.003604,
     "end_time": "2025-09-23T21:12:31.546667",
     "exception": false,
     "start_time": "2025-09-23T21:12:31.543063",
     "status": "completed"
    },
    "tags": []
   },
   "source": [
    "# Exercises\n",
    "\n",
    "### 1) Count tables in the dataset\n",
    "\n",
    "How many tables are in the Chicago Crime dataset?"
   ]
  },
  {
   "cell_type": "code",
   "execution_count": 3,
   "id": "1a38e9e4",
   "metadata": {
    "execution": {
     "iopub.execute_input": "2025-09-23T21:12:31.555948Z",
     "iopub.status.busy": "2025-09-23T21:12:31.555185Z",
     "iopub.status.idle": "2025-09-23T21:12:31.743037Z",
     "shell.execute_reply": "2025-09-23T21:12:31.742259Z"
    },
    "papermill": {
     "duration": 0.193944,
     "end_time": "2025-09-23T21:12:31.744509",
     "exception": false,
     "start_time": "2025-09-23T21:12:31.550565",
     "status": "completed"
    },
    "tags": []
   },
   "outputs": [
    {
     "data": {
      "text/plain": [
       "1"
      ]
     },
     "execution_count": 3,
     "metadata": {},
     "output_type": "execute_result"
    }
   ],
   "source": [
    "# Write the code you need here to figure out the answer\n",
    "tables = list(client.list_tables(dataset))\n",
    "\n",
    "len(tables)"
   ]
  },
  {
   "cell_type": "code",
   "execution_count": 4,
   "id": "531a6103",
   "metadata": {
    "execution": {
     "iopub.execute_input": "2025-09-23T21:12:31.757281Z",
     "iopub.status.busy": "2025-09-23T21:12:31.757000Z",
     "iopub.status.idle": "2025-09-23T21:12:31.763677Z",
     "shell.execute_reply": "2025-09-23T21:12:31.762937Z"
    },
    "papermill": {
     "duration": 0.014042,
     "end_time": "2025-09-23T21:12:31.765038",
     "exception": false,
     "start_time": "2025-09-23T21:12:31.750996",
     "status": "completed"
    },
    "tags": []
   },
   "outputs": [
    {
     "data": {
      "application/javascript": [
       "parent.postMessage({\"jupyterEvent\": \"custom.exercise_interaction\", \"data\": {\"outcomeType\": 1, \"valueTowardsCompletion\": 0.3333333333333333, \"interactionType\": 1, \"questionType\": 1, \"questionId\": \"1_CountTables\", \"learnToolsVersion\": \"0.3.5\", \"failureMessage\": \"\", \"exceptionClass\": \"\", \"trace\": \"\"}}, \"*\")"
      ],
      "text/plain": [
       "<IPython.core.display.Javascript object>"
      ]
     },
     "metadata": {},
     "output_type": "display_data"
    },
    {
     "data": {
      "text/markdown": [
       "<span style=\"color:#33cc33\">Correct</span>"
      ],
      "text/plain": [
       "Correct"
      ]
     },
     "metadata": {},
     "output_type": "display_data"
    }
   ],
   "source": [
    "num_tables = len(tables)  # Store the answer as num_tables and then run this cell\n",
    "\n",
    "# Check your answer\n",
    "q_1.check()"
   ]
  },
  {
   "cell_type": "markdown",
   "id": "0f453c6d",
   "metadata": {
    "papermill": {
     "duration": 0.003899,
     "end_time": "2025-09-23T21:12:31.773279",
     "exception": false,
     "start_time": "2025-09-23T21:12:31.769380",
     "status": "completed"
    },
    "tags": []
   },
   "source": [
    "For a hint or the solution, uncomment the appropriate line below."
   ]
  },
  {
   "cell_type": "code",
   "execution_count": 5,
   "id": "e532b2a3",
   "metadata": {
    "execution": {
     "iopub.execute_input": "2025-09-23T21:12:31.782720Z",
     "iopub.status.busy": "2025-09-23T21:12:31.782409Z",
     "iopub.status.idle": "2025-09-23T21:12:31.786185Z",
     "shell.execute_reply": "2025-09-23T21:12:31.785353Z"
    },
    "papermill": {
     "duration": 0.009968,
     "end_time": "2025-09-23T21:12:31.787471",
     "exception": false,
     "start_time": "2025-09-23T21:12:31.777503",
     "status": "completed"
    },
    "tags": []
   },
   "outputs": [],
   "source": [
    "#q_1.hint()\n",
    "#q_1.solution()"
   ]
  },
  {
   "cell_type": "markdown",
   "id": "ae430c51",
   "metadata": {
    "papermill": {
     "duration": 0.004002,
     "end_time": "2025-09-23T21:12:31.795873",
     "exception": false,
     "start_time": "2025-09-23T21:12:31.791871",
     "status": "completed"
    },
    "tags": []
   },
   "source": [
    "### 2) Explore the table schema\n",
    "\n",
    "How many columns in the `crime` table have `TIMESTAMP` data?"
   ]
  },
  {
   "cell_type": "code",
   "execution_count": 6,
   "id": "3d58089f",
   "metadata": {
    "execution": {
     "iopub.execute_input": "2025-09-23T21:12:31.805440Z",
     "iopub.status.busy": "2025-09-23T21:12:31.804882Z",
     "iopub.status.idle": "2025-09-23T21:12:32.021615Z",
     "shell.execute_reply": "2025-09-23T21:12:32.020873Z"
    },
    "papermill": {
     "duration": 0.223279,
     "end_time": "2025-09-23T21:12:32.023239",
     "exception": false,
     "start_time": "2025-09-23T21:12:31.799960",
     "status": "completed"
    },
    "tags": []
   },
   "outputs": [
    {
     "data": {
      "text/plain": [
       "[SchemaField('unique_key', 'INTEGER', 'REQUIRED', None, None, (), None),\n",
       " SchemaField('case_number', 'STRING', 'NULLABLE', None, None, (), None),\n",
       " SchemaField('date', 'TIMESTAMP', 'NULLABLE', None, None, (), None),\n",
       " SchemaField('block', 'STRING', 'NULLABLE', None, None, (), None),\n",
       " SchemaField('iucr', 'STRING', 'NULLABLE', None, None, (), None),\n",
       " SchemaField('primary_type', 'STRING', 'NULLABLE', None, None, (), None),\n",
       " SchemaField('description', 'STRING', 'NULLABLE', None, None, (), None),\n",
       " SchemaField('location_description', 'STRING', 'NULLABLE', None, None, (), None),\n",
       " SchemaField('arrest', 'BOOLEAN', 'NULLABLE', None, None, (), None),\n",
       " SchemaField('domestic', 'BOOLEAN', 'NULLABLE', None, None, (), None),\n",
       " SchemaField('beat', 'INTEGER', 'NULLABLE', None, None, (), None),\n",
       " SchemaField('district', 'INTEGER', 'NULLABLE', None, None, (), None),\n",
       " SchemaField('ward', 'INTEGER', 'NULLABLE', None, None, (), None),\n",
       " SchemaField('community_area', 'INTEGER', 'NULLABLE', None, None, (), None),\n",
       " SchemaField('fbi_code', 'STRING', 'NULLABLE', None, None, (), None),\n",
       " SchemaField('x_coordinate', 'FLOAT', 'NULLABLE', None, None, (), None),\n",
       " SchemaField('y_coordinate', 'FLOAT', 'NULLABLE', None, None, (), None),\n",
       " SchemaField('year', 'INTEGER', 'NULLABLE', None, None, (), None),\n",
       " SchemaField('updated_on', 'TIMESTAMP', 'NULLABLE', None, None, (), None),\n",
       " SchemaField('latitude', 'FLOAT', 'NULLABLE', None, None, (), None),\n",
       " SchemaField('longitude', 'FLOAT', 'NULLABLE', None, None, (), None),\n",
       " SchemaField('location', 'STRING', 'NULLABLE', None, None, (), None)]"
      ]
     },
     "execution_count": 6,
     "metadata": {},
     "output_type": "execute_result"
    }
   ],
   "source": [
    "# Write the code to figure out the answer\n",
    "table_ref = dataset_ref.table(\"crime\")\n",
    "\n",
    "# API request - fetch the table\n",
    "crime_table = client.get_table(table_ref)\n",
    "crime_table.schema"
   ]
  },
  {
   "cell_type": "code",
   "execution_count": 7,
   "id": "24c592f0",
   "metadata": {
    "execution": {
     "iopub.execute_input": "2025-09-23T21:12:32.033296Z",
     "iopub.status.busy": "2025-09-23T21:12:32.033004Z",
     "iopub.status.idle": "2025-09-23T21:12:32.038479Z",
     "shell.execute_reply": "2025-09-23T21:12:32.037458Z"
    },
    "papermill": {
     "duration": 0.012406,
     "end_time": "2025-09-23T21:12:32.040008",
     "exception": false,
     "start_time": "2025-09-23T21:12:32.027602",
     "status": "completed"
    },
    "tags": []
   },
   "outputs": [
    {
     "name": "stdout",
     "output_type": "stream",
     "text": [
      "TIMESTAMP columns: ['date', 'updated_on']\n",
      "Count: 2\n"
     ]
    }
   ],
   "source": [
    "# Count TIMESTAMP columns in the schema\n",
    "timestamp_cols = [field.name for field in crime_table.schema if field.field_type == \"TIMESTAMP\"]\n",
    "print(\"TIMESTAMP columns:\", timestamp_cols)\n",
    "print(\"Count:\", len(timestamp_cols))"
   ]
  },
  {
   "cell_type": "code",
   "execution_count": 8,
   "id": "74e895d1",
   "metadata": {
    "execution": {
     "iopub.execute_input": "2025-09-23T21:12:32.050331Z",
     "iopub.status.busy": "2025-09-23T21:12:32.049567Z",
     "iopub.status.idle": "2025-09-23T21:12:32.056604Z",
     "shell.execute_reply": "2025-09-23T21:12:32.055839Z"
    },
    "papermill": {
     "duration": 0.013472,
     "end_time": "2025-09-23T21:12:32.057856",
     "exception": false,
     "start_time": "2025-09-23T21:12:32.044384",
     "status": "completed"
    },
    "tags": []
   },
   "outputs": [
    {
     "data": {
      "application/javascript": [
       "parent.postMessage({\"jupyterEvent\": \"custom.exercise_interaction\", \"data\": {\"outcomeType\": 1, \"valueTowardsCompletion\": 0.3333333333333333, \"interactionType\": 1, \"questionType\": 1, \"questionId\": \"2_CountTimestampFields\", \"learnToolsVersion\": \"0.3.5\", \"failureMessage\": \"\", \"exceptionClass\": \"\", \"trace\": \"\"}}, \"*\")"
      ],
      "text/plain": [
       "<IPython.core.display.Javascript object>"
      ]
     },
     "metadata": {},
     "output_type": "display_data"
    },
    {
     "data": {
      "text/markdown": [
       "<span style=\"color:#33cc33\">Correct</span>"
      ],
      "text/plain": [
       "Correct"
      ]
     },
     "metadata": {},
     "output_type": "display_data"
    }
   ],
   "source": [
    "num_timestamp_fields = len(timestamp_cols) # Put your answer here\n",
    "\n",
    "# Check your answer\n",
    "q_2.check()"
   ]
  },
  {
   "cell_type": "markdown",
   "id": "254b62c8",
   "metadata": {
    "papermill": {
     "duration": 0.004378,
     "end_time": "2025-09-23T21:12:32.066731",
     "exception": false,
     "start_time": "2025-09-23T21:12:32.062353",
     "status": "completed"
    },
    "tags": []
   },
   "source": [
    "For a hint or the solution, uncomment the appropriate line below."
   ]
  },
  {
   "cell_type": "code",
   "execution_count": 9,
   "id": "bcf374e3",
   "metadata": {
    "execution": {
     "iopub.execute_input": "2025-09-23T21:12:32.076910Z",
     "iopub.status.busy": "2025-09-23T21:12:32.076364Z",
     "iopub.status.idle": "2025-09-23T21:12:32.080510Z",
     "shell.execute_reply": "2025-09-23T21:12:32.079438Z"
    },
    "papermill": {
     "duration": 0.010928,
     "end_time": "2025-09-23T21:12:32.082035",
     "exception": false,
     "start_time": "2025-09-23T21:12:32.071107",
     "status": "completed"
    },
    "tags": []
   },
   "outputs": [],
   "source": [
    "#q_2.hint()\n",
    "#q_2.solution()"
   ]
  },
  {
   "cell_type": "markdown",
   "id": "02c203cc",
   "metadata": {
    "papermill": {
     "duration": 0.004357,
     "end_time": "2025-09-23T21:12:32.091025",
     "exception": false,
     "start_time": "2025-09-23T21:12:32.086668",
     "status": "completed"
    },
    "tags": []
   },
   "source": [
    "### 3) Create a crime map\n",
    "\n",
    "If you wanted to create a map with a dot at the location of each crime, what are the names of the two fields you likely need to pull out of the `crime` table to plot the crimes on a map?"
   ]
  },
  {
   "cell_type": "code",
   "execution_count": 10,
   "id": "ff72b9da",
   "metadata": {
    "execution": {
     "iopub.execute_input": "2025-09-23T21:12:32.101623Z",
     "iopub.status.busy": "2025-09-23T21:12:32.100881Z",
     "iopub.status.idle": "2025-09-23T21:12:32.106463Z",
     "shell.execute_reply": "2025-09-23T21:12:32.105675Z"
    },
    "papermill": {
     "duration": 0.012473,
     "end_time": "2025-09-23T21:12:32.107931",
     "exception": false,
     "start_time": "2025-09-23T21:12:32.095458",
     "status": "completed"
    },
    "tags": []
   },
   "outputs": [
    {
     "data": {
      "text/plain": [
       "[SchemaField('unique_key', 'INTEGER', 'REQUIRED', None, None, (), None),\n",
       " SchemaField('case_number', 'STRING', 'NULLABLE', None, None, (), None),\n",
       " SchemaField('date', 'TIMESTAMP', 'NULLABLE', None, None, (), None),\n",
       " SchemaField('block', 'STRING', 'NULLABLE', None, None, (), None),\n",
       " SchemaField('iucr', 'STRING', 'NULLABLE', None, None, (), None),\n",
       " SchemaField('primary_type', 'STRING', 'NULLABLE', None, None, (), None),\n",
       " SchemaField('description', 'STRING', 'NULLABLE', None, None, (), None),\n",
       " SchemaField('location_description', 'STRING', 'NULLABLE', None, None, (), None),\n",
       " SchemaField('arrest', 'BOOLEAN', 'NULLABLE', None, None, (), None),\n",
       " SchemaField('domestic', 'BOOLEAN', 'NULLABLE', None, None, (), None),\n",
       " SchemaField('beat', 'INTEGER', 'NULLABLE', None, None, (), None),\n",
       " SchemaField('district', 'INTEGER', 'NULLABLE', None, None, (), None),\n",
       " SchemaField('ward', 'INTEGER', 'NULLABLE', None, None, (), None),\n",
       " SchemaField('community_area', 'INTEGER', 'NULLABLE', None, None, (), None),\n",
       " SchemaField('fbi_code', 'STRING', 'NULLABLE', None, None, (), None),\n",
       " SchemaField('x_coordinate', 'FLOAT', 'NULLABLE', None, None, (), None),\n",
       " SchemaField('y_coordinate', 'FLOAT', 'NULLABLE', None, None, (), None),\n",
       " SchemaField('year', 'INTEGER', 'NULLABLE', None, None, (), None),\n",
       " SchemaField('updated_on', 'TIMESTAMP', 'NULLABLE', None, None, (), None),\n",
       " SchemaField('latitude', 'FLOAT', 'NULLABLE', None, None, (), None),\n",
       " SchemaField('longitude', 'FLOAT', 'NULLABLE', None, None, (), None),\n",
       " SchemaField('location', 'STRING', 'NULLABLE', None, None, (), None)]"
      ]
     },
     "execution_count": 10,
     "metadata": {},
     "output_type": "execute_result"
    }
   ],
   "source": [
    "# Write the code here to explore the data so you can find the answer\n",
    "crime_table.schema"
   ]
  },
  {
   "cell_type": "code",
   "execution_count": 11,
   "id": "8dbd70df",
   "metadata": {
    "execution": {
     "iopub.execute_input": "2025-09-23T21:12:32.118823Z",
     "iopub.status.busy": "2025-09-23T21:12:32.118177Z",
     "iopub.status.idle": "2025-09-23T21:12:32.125362Z",
     "shell.execute_reply": "2025-09-23T21:12:32.124732Z"
    },
    "papermill": {
     "duration": 0.013895,
     "end_time": "2025-09-23T21:12:32.126576",
     "exception": false,
     "start_time": "2025-09-23T21:12:32.112681",
     "status": "completed"
    },
    "tags": []
   },
   "outputs": [
    {
     "name": "stdout",
     "output_type": "stream",
     "text": [
      "`'latitude'` and `'longitude'` would be better and more standard than `'x_coordinate'` and `'y_coordinate'`, but this might work.\n"
     ]
    },
    {
     "data": {
      "application/javascript": [
       "parent.postMessage({\"jupyterEvent\": \"custom.exercise_interaction\", \"data\": {\"outcomeType\": 1, \"valueTowardsCompletion\": 0.3333333333333333, \"interactionType\": 1, \"questionType\": 2, \"questionId\": \"3_IdentifyFieldsForPlotting\", \"learnToolsVersion\": \"0.3.5\", \"failureMessage\": \"\", \"exceptionClass\": \"\", \"trace\": \"\"}}, \"*\")"
      ],
      "text/plain": [
       "<IPython.core.display.Javascript object>"
      ]
     },
     "metadata": {},
     "output_type": "display_data"
    },
    {
     "data": {
      "text/markdown": [
       "<span style=\"color:#33cc33\">Correct</span>"
      ],
      "text/plain": [
       "Correct"
      ]
     },
     "metadata": {},
     "output_type": "display_data"
    }
   ],
   "source": [
    "fields_for_plotting = ['x_coordinate', 'y_coordinate'] # Put your answers here\n",
    "\n",
    "# Check your answer\n",
    "q_3.check()"
   ]
  },
  {
   "cell_type": "markdown",
   "id": "77180c34",
   "metadata": {
    "papermill": {
     "duration": 0.005249,
     "end_time": "2025-09-23T21:12:32.136846",
     "exception": false,
     "start_time": "2025-09-23T21:12:32.131597",
     "status": "completed"
    },
    "tags": []
   },
   "source": [
    "For a hint or the solution, uncomment the appropriate line below."
   ]
  },
  {
   "cell_type": "code",
   "execution_count": 12,
   "id": "c395ad5a",
   "metadata": {
    "execution": {
     "iopub.execute_input": "2025-09-23T21:12:32.147758Z",
     "iopub.status.busy": "2025-09-23T21:12:32.147202Z",
     "iopub.status.idle": "2025-09-23T21:12:32.150981Z",
     "shell.execute_reply": "2025-09-23T21:12:32.150205Z"
    },
    "papermill": {
     "duration": 0.010703,
     "end_time": "2025-09-23T21:12:32.152300",
     "exception": false,
     "start_time": "2025-09-23T21:12:32.141597",
     "status": "completed"
    },
    "tags": []
   },
   "outputs": [],
   "source": [
    "#q_3.hint()\n",
    "#q_3.solution()"
   ]
  },
  {
   "cell_type": "markdown",
   "id": "8e669b7c",
   "metadata": {
    "papermill": {
     "duration": 0.00446,
     "end_time": "2025-09-23T21:12:32.161625",
     "exception": false,
     "start_time": "2025-09-23T21:12:32.157165",
     "status": "completed"
    },
    "tags": []
   },
   "source": [
    "Thinking about the question above, there are a few columns that appear to have geographic data. Look at a few values (with the `list_rows()` command) to see if you can determine their relationship.  Two columns will still be hard to interpret. But it should be obvious how the `location` column relates to `latitude` and `longitude`."
   ]
  },
  {
   "cell_type": "code",
   "execution_count": 13,
   "id": "47ab7838",
   "metadata": {
    "execution": {
     "iopub.execute_input": "2025-09-23T21:12:32.172771Z",
     "iopub.status.busy": "2025-09-23T21:12:32.171905Z",
     "iopub.status.idle": "2025-09-23T21:12:32.782142Z",
     "shell.execute_reply": "2025-09-23T21:12:32.781311Z"
    },
    "papermill": {
     "duration": 0.61721,
     "end_time": "2025-09-23T21:12:32.783476",
     "exception": false,
     "start_time": "2025-09-23T21:12:32.166266",
     "status": "completed"
    },
    "tags": []
   },
   "outputs": [
    {
     "data": {
      "text/html": [
       "<div>\n",
       "<style scoped>\n",
       "    .dataframe tbody tr th:only-of-type {\n",
       "        vertical-align: middle;\n",
       "    }\n",
       "\n",
       "    .dataframe tbody tr th {\n",
       "        vertical-align: top;\n",
       "    }\n",
       "\n",
       "    .dataframe thead th {\n",
       "        text-align: right;\n",
       "    }\n",
       "</style>\n",
       "<table border=\"1\" class=\"dataframe\">\n",
       "  <thead>\n",
       "    <tr style=\"text-align: right;\">\n",
       "      <th></th>\n",
       "      <th>unique_key</th>\n",
       "      <th>case_number</th>\n",
       "      <th>date</th>\n",
       "      <th>block</th>\n",
       "      <th>iucr</th>\n",
       "      <th>primary_type</th>\n",
       "      <th>description</th>\n",
       "      <th>location_description</th>\n",
       "      <th>arrest</th>\n",
       "      <th>domestic</th>\n",
       "      <th>...</th>\n",
       "      <th>ward</th>\n",
       "      <th>community_area</th>\n",
       "      <th>fbi_code</th>\n",
       "      <th>x_coordinate</th>\n",
       "      <th>y_coordinate</th>\n",
       "      <th>year</th>\n",
       "      <th>updated_on</th>\n",
       "      <th>latitude</th>\n",
       "      <th>longitude</th>\n",
       "      <th>location</th>\n",
       "    </tr>\n",
       "  </thead>\n",
       "  <tbody>\n",
       "    <tr>\n",
       "      <th>0</th>\n",
       "      <td>11060331</td>\n",
       "      <td>JA397659</td>\n",
       "      <td>2017-08-13 12:27:00+00:00</td>\n",
       "      <td>0000X W RANDOLPH ST</td>\n",
       "      <td>0281</td>\n",
       "      <td>CRIM SEXUAL ASSAULT</td>\n",
       "      <td>NON-AGGRAVATED</td>\n",
       "      <td>HOTEL/MOTEL</td>\n",
       "      <td>False</td>\n",
       "      <td>False</td>\n",
       "      <td>...</td>\n",
       "      <td>42</td>\n",
       "      <td>32</td>\n",
       "      <td>02</td>\n",
       "      <td>1176068.0</td>\n",
       "      <td>1901284.0</td>\n",
       "      <td>2017</td>\n",
       "      <td>2018-02-10 15:50:01+00:00</td>\n",
       "      <td>41.884486</td>\n",
       "      <td>-87.628909</td>\n",
       "      <td>(41.884486217, -87.628908795)</td>\n",
       "    </tr>\n",
       "    <tr>\n",
       "      <th>1</th>\n",
       "      <td>7263938</td>\n",
       "      <td>HR678180</td>\n",
       "      <td>2009-12-06 03:00:00+00:00</td>\n",
       "      <td>006XX W WASHINGTON BLVD</td>\n",
       "      <td>0313</td>\n",
       "      <td>ROBBERY</td>\n",
       "      <td>ARMED: OTHER DANGEROUS WEAPON</td>\n",
       "      <td>PARKING LOT/GARAGE(NON.RESID.)</td>\n",
       "      <td>False</td>\n",
       "      <td>False</td>\n",
       "      <td>...</td>\n",
       "      <td>27</td>\n",
       "      <td>28</td>\n",
       "      <td>03</td>\n",
       "      <td>1171769.0</td>\n",
       "      <td>1900767.0</td>\n",
       "      <td>2009</td>\n",
       "      <td>2018-02-28 15:56:25+00:00</td>\n",
       "      <td>41.883163</td>\n",
       "      <td>-87.644710</td>\n",
       "      <td>(41.883163285, -87.644710386)</td>\n",
       "    </tr>\n",
       "    <tr>\n",
       "      <th>2</th>\n",
       "      <td>2431199</td>\n",
       "      <td>HH749112</td>\n",
       "      <td>2002-10-30 21:59:19+00:00</td>\n",
       "      <td>005XX W MADISON ST</td>\n",
       "      <td>031A</td>\n",
       "      <td>ROBBERY</td>\n",
       "      <td>ARMED: HANDGUN</td>\n",
       "      <td>SIDEWALK</td>\n",
       "      <td>False</td>\n",
       "      <td>False</td>\n",
       "      <td>...</td>\n",
       "      <td>42</td>\n",
       "      <td>28</td>\n",
       "      <td>03</td>\n",
       "      <td>1173039.0</td>\n",
       "      <td>1900311.0</td>\n",
       "      <td>2002</td>\n",
       "      <td>2018-02-28 15:56:25+00:00</td>\n",
       "      <td>41.881884</td>\n",
       "      <td>-87.640060</td>\n",
       "      <td>(41.881883933, -87.640060441)</td>\n",
       "    </tr>\n",
       "    <tr>\n",
       "      <th>3</th>\n",
       "      <td>13141030</td>\n",
       "      <td>JG340094</td>\n",
       "      <td>2023-07-13 22:00:00+00:00</td>\n",
       "      <td>002XX N STATE ST</td>\n",
       "      <td>0320</td>\n",
       "      <td>ROBBERY</td>\n",
       "      <td>STRONG ARM - NO WEAPON</td>\n",
       "      <td>CTA PLATFORM</td>\n",
       "      <td>False</td>\n",
       "      <td>False</td>\n",
       "      <td>...</td>\n",
       "      <td>42</td>\n",
       "      <td>32</td>\n",
       "      <td>03</td>\n",
       "      <td>1176327.0</td>\n",
       "      <td>1901797.0</td>\n",
       "      <td>2023</td>\n",
       "      <td>2023-08-19 15:40:26+00:00</td>\n",
       "      <td>41.885888</td>\n",
       "      <td>-87.627942</td>\n",
       "      <td>(41.885888079, -87.627942238)</td>\n",
       "    </tr>\n",
       "    <tr>\n",
       "      <th>4</th>\n",
       "      <td>2314598</td>\n",
       "      <td>HH602912</td>\n",
       "      <td>2002-08-24 22:45:00+00:00</td>\n",
       "      <td>003XX W WASHINGTON ST</td>\n",
       "      <td>0320</td>\n",
       "      <td>ROBBERY</td>\n",
       "      <td>STRONGARM - NO WEAPON</td>\n",
       "      <td>STREET</td>\n",
       "      <td>False</td>\n",
       "      <td>False</td>\n",
       "      <td>...</td>\n",
       "      <td>42</td>\n",
       "      <td>32</td>\n",
       "      <td>03</td>\n",
       "      <td>1174205.0</td>\n",
       "      <td>1900802.0</td>\n",
       "      <td>2002</td>\n",
       "      <td>2018-02-28 15:56:25+00:00</td>\n",
       "      <td>41.883205</td>\n",
       "      <td>-87.635764</td>\n",
       "      <td>(41.88320534, -87.635764295)</td>\n",
       "    </tr>\n",
       "  </tbody>\n",
       "</table>\n",
       "<p>5 rows × 22 columns</p>\n",
       "</div>"
      ],
      "text/plain": [
       "   unique_key case_number                      date                    block  \\\n",
       "0    11060331    JA397659 2017-08-13 12:27:00+00:00      0000X W RANDOLPH ST   \n",
       "1     7263938    HR678180 2009-12-06 03:00:00+00:00  006XX W WASHINGTON BLVD   \n",
       "2     2431199    HH749112 2002-10-30 21:59:19+00:00       005XX W MADISON ST   \n",
       "3    13141030    JG340094 2023-07-13 22:00:00+00:00         002XX N STATE ST   \n",
       "4     2314598    HH602912 2002-08-24 22:45:00+00:00    003XX W WASHINGTON ST   \n",
       "\n",
       "   iucr         primary_type                    description  \\\n",
       "0  0281  CRIM SEXUAL ASSAULT                 NON-AGGRAVATED   \n",
       "1  0313              ROBBERY  ARMED: OTHER DANGEROUS WEAPON   \n",
       "2  031A              ROBBERY                 ARMED: HANDGUN   \n",
       "3  0320              ROBBERY         STRONG ARM - NO WEAPON   \n",
       "4  0320              ROBBERY          STRONGARM - NO WEAPON   \n",
       "\n",
       "             location_description  arrest  domestic  ...  ward  \\\n",
       "0                     HOTEL/MOTEL   False     False  ...    42   \n",
       "1  PARKING LOT/GARAGE(NON.RESID.)   False     False  ...    27   \n",
       "2                        SIDEWALK   False     False  ...    42   \n",
       "3                    CTA PLATFORM   False     False  ...    42   \n",
       "4                          STREET   False     False  ...    42   \n",
       "\n",
       "   community_area  fbi_code  x_coordinate y_coordinate  year  \\\n",
       "0              32        02     1176068.0    1901284.0  2017   \n",
       "1              28        03     1171769.0    1900767.0  2009   \n",
       "2              28        03     1173039.0    1900311.0  2002   \n",
       "3              32        03     1176327.0    1901797.0  2023   \n",
       "4              32        03     1174205.0    1900802.0  2002   \n",
       "\n",
       "                 updated_on   latitude  longitude  \\\n",
       "0 2018-02-10 15:50:01+00:00  41.884486 -87.628909   \n",
       "1 2018-02-28 15:56:25+00:00  41.883163 -87.644710   \n",
       "2 2018-02-28 15:56:25+00:00  41.881884 -87.640060   \n",
       "3 2023-08-19 15:40:26+00:00  41.885888 -87.627942   \n",
       "4 2018-02-28 15:56:25+00:00  41.883205 -87.635764   \n",
       "\n",
       "                        location  \n",
       "0  (41.884486217, -87.628908795)  \n",
       "1  (41.883163285, -87.644710386)  \n",
       "2  (41.881883933, -87.640060441)  \n",
       "3  (41.885888079, -87.627942238)  \n",
       "4   (41.88320534, -87.635764295)  \n",
       "\n",
       "[5 rows x 22 columns]"
      ]
     },
     "execution_count": 13,
     "metadata": {},
     "output_type": "execute_result"
    }
   ],
   "source": [
    "# Scratch space for your code\n",
    "client.list_rows(crime_table, max_results=5).to_dataframe()"
   ]
  },
  {
   "cell_type": "markdown",
   "id": "e38706d4",
   "metadata": {
    "papermill": {
     "duration": 0.004758,
     "end_time": "2025-09-23T21:12:32.793652",
     "exception": false,
     "start_time": "2025-09-23T21:12:32.788894",
     "status": "completed"
    },
    "tags": []
   },
   "source": [
    "# Keep going\n",
    "\n",
    "You've looked at the schema, but you haven't yet done anything exciting with the data itself. Things get more interesting when you get to the data, so keep going to **[write your first SQL query](https://www.kaggle.com/dansbecker/select-from-where).**"
   ]
  },
  {
   "cell_type": "markdown",
   "id": "be555bf3",
   "metadata": {
    "papermill": {
     "duration": 0.00489,
     "end_time": "2025-09-23T21:12:32.803450",
     "exception": false,
     "start_time": "2025-09-23T21:12:32.798560",
     "status": "completed"
    },
    "tags": []
   },
   "source": [
    "---\n",
    "\n",
    "\n",
    "\n",
    "\n",
    "*Have questions or comments? Visit the [course discussion forum](https://www.kaggle.com/learn/intro-to-sql/discussion) to chat with other learners.*"
   ]
  }
 ],
 "metadata": {
  "kaggle": {
   "accelerator": "none",
   "dataSources": [
    {
     "datasetId": 22090,
     "sourceId": 28376,
     "sourceType": "datasetVersion"
    },
    {
     "datasetId": 6057,
     "sourceId": 285982,
     "sourceType": "datasetVersion"
    }
   ],
   "isGpuEnabled": false,
   "isInternetEnabled": false,
   "language": "python",
   "sourceType": "notebook"
  },
  "kernelspec": {
   "display_name": "Python 3",
   "language": "python",
   "name": "python3"
  },
  "language_info": {
   "codemirror_mode": {
    "name": "ipython",
    "version": 3
   },
   "file_extension": ".py",
   "mimetype": "text/x-python",
   "name": "python",
   "nbconvert_exporter": "python",
   "pygments_lexer": "ipython3",
   "version": "3.11.13"
  },
  "papermill": {
   "default_parameters": {},
   "duration": 28.574229,
   "end_time": "2025-09-23T21:12:35.507662",
   "environment_variables": {},
   "exception": null,
   "input_path": "__notebook__.ipynb",
   "output_path": "__notebook__.ipynb",
   "parameters": {},
   "start_time": "2025-09-23T21:12:06.933433",
   "version": "2.6.0"
  }
 },
 "nbformat": 4,
 "nbformat_minor": 5
}
